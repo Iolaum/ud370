{
 "cells": [
  {
   "cell_type": "markdown",
   "metadata": {
    "colab_type": "text",
    "id": "5hIbr52I7Z7U"
   },
   "source": [
    "Deep Learning\n",
    "=============\n",
    "\n",
    "Assignment 1\n",
    "------------\n",
    "\n",
    "The objective of this assignment is to learn about simple data curation practices, and familiarize you with some of the data we'll be reusing later.\n",
    "\n",
    "This notebook uses the [notMNIST](http://yaroslavvb.blogspot.com/2011/09/notmnist-dataset.html) dataset to be used with python experiments. This dataset is designed to look like the classic [MNIST](http://yann.lecun.com/exdb/mnist/) dataset, while looking a little more like real data: it's a harder task, and the data is a lot less 'clean' than MNIST."
   ]
  },
  {
   "cell_type": "code",
   "execution_count": 2,
   "metadata": {
    "cellView": "both",
    "colab": {
     "autoexec": {
      "startup": false,
      "wait_interval": 0
     }
    },
    "colab_type": "code",
    "collapsed": true,
    "id": "apJbCsBHl-2A"
   },
   "outputs": [],
   "source": [
    "# These are all the modules we'll be using later. Make sure you can import them\n",
    "# before proceeding further.\n",
    "from __future__ import print_function\n",
    "import matplotlib.pyplot as plt\n",
    "import numpy as np\n",
    "import os\n",
    "import sys\n",
    "import tarfile\n",
    "from IPython.display import display, Image\n",
    "from scipy import ndimage\n",
    "from sklearn.linear_model import LogisticRegression\n",
    "from six.moves.urllib.request import urlretrieve\n",
    "from six.moves import cPickle as pickle\n",
    "import random # show random images\n",
    "import glob # Problem 2\n",
    "\n",
    "# Config the matplotlib backend as plotting inline in IPython\n",
    "%matplotlib inline"
   ]
  },
  {
   "cell_type": "markdown",
   "metadata": {
    "colab_type": "text",
    "id": "jNWGtZaXn-5j"
   },
   "source": [
    "First, we'll download the dataset to our local machine. The data consists of characters rendered in a variety of fonts on a 28x28 image. The labels are limited to 'A' through 'J' (10 classes). The training set has about 500k and the testset 19000 labelled examples. Given these sizes, it should be possible to train models quickly on any machine."
   ]
  },
  {
   "cell_type": "code",
   "execution_count": 5,
   "metadata": {
    "cellView": "both",
    "colab": {
     "autoexec": {
      "startup": false,
      "wait_interval": 0
     },
     "output_extras": [
      {
       "item_id": 1
      }
     ]
    },
    "colab_type": "code",
    "executionInfo": {
     "elapsed": 186058,
     "status": "ok",
     "timestamp": 1444485672507,
     "user": {
      "color": "#1FA15D",
      "displayName": "Vincent Vanhoucke",
      "isAnonymous": false,
      "isMe": true,
      "permissionId": "05076109866853157986",
      "photoUrl": "//lh6.googleusercontent.com/-cCJa7dTDcgQ/AAAAAAAAAAI/AAAAAAAACgw/r2EZ_8oYer4/s50-c-k-no/photo.jpg",
      "sessionId": "2a0a5e044bb03b66",
      "userId": "102167687554210253930"
     },
     "user_tz": 420
    },
    "id": "EYRJ4ICW6-da",
    "outputId": "0d0f85df-155f-4a89-8e7e-ee32df36ec8d"
   },
   "outputs": [
    {
     "name": "stdout",
     "output_type": "stream",
     "text": [
      "Found and verified notMNIST_large.tar.gz\n",
      "Found and verified notMNIST_small.tar.gz\n"
     ]
    }
   ],
   "source": [
    "# course-harcoded url\n",
    "url = 'http://commondatastorage.googleapis.com/books1000/'\n",
    "last_percent_reported = None\n",
    "\n",
    "def download_progress_hook(count, blockSize, totalSize):\n",
    "    \"\"\"A hook to report the progress of a download. This is mostly intended for users with\n",
    "    slow internet connections. Reports every 5% change in download progress.\n",
    "    \"\"\"\n",
    "    global last_percent_reported\n",
    "    percent = int(count * blockSize * 100 / totalSize)\n",
    "\n",
    "    if last_percent_reported != percent:\n",
    "        if percent % 5 == 0:\n",
    "            sys.stdout.write(\"%s%%\" % percent)\n",
    "            sys.stdout.flush()\n",
    "        else:\n",
    "            sys.stdout.write(\".\")\n",
    "            sys.stdout.flush()\n",
    "      \n",
    "        last_percent_reported = percent\n",
    "        \n",
    "def maybe_download(filename, expected_bytes, force=False):\n",
    "    \"\"\"Download a file if not present, and make sure it's the right size.\"\"\"\n",
    "    # Create path where the data file will be stored\n",
    "    # get working directory and go to the parent - distro agnostic code\n",
    "    dpath = os.path.abspath(os.path.join(os.getcwd(), os.pardir))\n",
    "    # go to data directory\n",
    "    dpath = os.path.join(dpath, 'data')\n",
    "    # get filepath\n",
    "    fpath = os.path.join(dpath, filename)\n",
    "    # Download file if needed\n",
    "    if force or not os.path.exists(fpath):\n",
    "        print('Attempting to download:', filename) \n",
    "        filename, _ = urlretrieve(url + filename, filename, reporthook=download_progress_hook)\n",
    "        print('\\nDownload Complete!')\n",
    "        \n",
    "        # move new file from working directory to data location\n",
    "        # current file location\n",
    "        cpath = os.path.join(os.getcwd(), filename)\n",
    "        os.rename(cpath, fpath)\n",
    "    \n",
    "    # check existing file if it exists or new if not\n",
    "    statinfo = os.stat(fpath)\n",
    "    # Verify file size.\n",
    "    if statinfo.st_size == expected_bytes:\n",
    "        print('Found and verified', filename)\n",
    "    else:\n",
    "        raise Exception(\n",
    "            'Failed to verify ' + filename +\n",
    "            '. Can you get to it with a browser or download it again?')\n",
    "    \n",
    "    return (filename)\n",
    "\n",
    "train_filename = maybe_download('notMNIST_large.tar.gz', 247336696)\n",
    "test_filename = maybe_download('notMNIST_small.tar.gz', 8458043)"
   ]
  },
  {
   "cell_type": "markdown",
   "metadata": {
    "colab_type": "text",
    "id": "cC3p0oEyF8QT"
   },
   "source": [
    "Extract the dataset from the compressed .tar.gz file.\n",
    "This should give you a set of directories, labelled A through J."
   ]
  },
  {
   "cell_type": "code",
   "execution_count": 6,
   "metadata": {
    "cellView": "both",
    "colab": {
     "autoexec": {
      "startup": false,
      "wait_interval": 0
     },
     "output_extras": [
      {
       "item_id": 1
      }
     ]
    },
    "colab_type": "code",
    "executionInfo": {
     "elapsed": 186055,
     "status": "ok",
     "timestamp": 1444485672525,
     "user": {
      "color": "#1FA15D",
      "displayName": "Vincent Vanhoucke",
      "isAnonymous": false,
      "isMe": true,
      "permissionId": "05076109866853157986",
      "photoUrl": "//lh6.googleusercontent.com/-cCJa7dTDcgQ/AAAAAAAAAAI/AAAAAAAACgw/r2EZ_8oYer4/s50-c-k-no/photo.jpg",
      "sessionId": "2a0a5e044bb03b66",
      "userId": "102167687554210253930"
     },
     "user_tz": 420
    },
    "id": "H8CBE-WZ8nmj",
    "outputId": "ef6c790c-2513-4b09-962e-27c79390c762"
   },
   "outputs": [
    {
     "name": "stdout",
     "output_type": "stream",
     "text": [
      "/home/nikolaos/Repositories/ud370/data/notMNIST_large already present - Skipping extraction of notMNIST_large.tar.gz.\n",
      "Data folders list:\n",
      "['/home/nikolaos/Repositories/ud370/data/notMNIST_large/A', '/home/nikolaos/Repositories/ud370/data/notMNIST_large/B', '/home/nikolaos/Repositories/ud370/data/notMNIST_large/C', '/home/nikolaos/Repositories/ud370/data/notMNIST_large/D', '/home/nikolaos/Repositories/ud370/data/notMNIST_large/E', '/home/nikolaos/Repositories/ud370/data/notMNIST_large/F', '/home/nikolaos/Repositories/ud370/data/notMNIST_large/G', '/home/nikolaos/Repositories/ud370/data/notMNIST_large/H', '/home/nikolaos/Repositories/ud370/data/notMNIST_large/I', '/home/nikolaos/Repositories/ud370/data/notMNIST_large/J']\n",
      "/home/nikolaos/Repositories/ud370/data/notMNIST_small already present - Skipping extraction of notMNIST_small.tar.gz.\n",
      "Data folders list:\n",
      "['/home/nikolaos/Repositories/ud370/data/notMNIST_small/A', '/home/nikolaos/Repositories/ud370/data/notMNIST_small/B', '/home/nikolaos/Repositories/ud370/data/notMNIST_small/C', '/home/nikolaos/Repositories/ud370/data/notMNIST_small/D', '/home/nikolaos/Repositories/ud370/data/notMNIST_small/E', '/home/nikolaos/Repositories/ud370/data/notMNIST_small/F', '/home/nikolaos/Repositories/ud370/data/notMNIST_small/G', '/home/nikolaos/Repositories/ud370/data/notMNIST_small/H', '/home/nikolaos/Repositories/ud370/data/notMNIST_small/I', '/home/nikolaos/Repositories/ud370/data/notMNIST_small/J']\n"
     ]
    }
   ],
   "source": [
    "num_classes = 10\n",
    "np.random.seed(133)\n",
    "\n",
    "def maybe_extract(filename, force=False):\n",
    "    # get new dir name\n",
    "    dirn = os.path.splitext(os.path.splitext(filename)[0])[0]  # remove .tar.gz\n",
    "    # Create data directory path\n",
    "    dpath = os.path.abspath(os.path.join(os.getcwd(), os.pardir))\n",
    "    dpath = os.path.join(dpath, 'data')\n",
    "    # Create dir to unzip data\n",
    "    dirn = os.path.join(dpath, dirn)\n",
    "    # Create zipped file path\n",
    "    fpath = os.path.join(dpath, filename)\n",
    "    if os.path.isdir(dirn) and not force:\n",
    "        # You may override by setting force=True.\n",
    "        print('%s already present - Skipping extraction of %s.' % (dirn, filename))\n",
    "    else:\n",
    "        print('Extracting data for %s. This may take a while. Please wait.' % dirn)\n",
    "        tar = tarfile.open(fpath)\n",
    "        sys.stdout.flush()\n",
    "        # set path so data are extracted within the data folder.\n",
    "        tar.extractall(path=dpath)\n",
    "        tar.close()\n",
    "        \n",
    "    data_folders = [\n",
    "        os.path.join(dirn, d) for d in sorted(os.listdir(dirn))\n",
    "        if os.path.isdir(os.path.join(dirn, d))]\n",
    "    if len(data_folders) != num_classes:\n",
    "        raise Exception(\n",
    "            'Expected %d folders, one per class. Found %d instead.' % (\n",
    "                num_classes, len(data_folders)))\n",
    "    print(\"Data folders list:\")\n",
    "    print(data_folders)\n",
    "    return(data_folders)\n",
    "  \n",
    "train_folders = maybe_extract(train_filename)\n",
    "test_folders = maybe_extract(test_filename)"
   ]
  },
  {
   "cell_type": "markdown",
   "metadata": {
    "colab_type": "text",
    "id": "4riXK3IoHgx6"
   },
   "source": [
    "---\n",
    "Problem 1\n",
    "---------\n",
    "\n",
    "Let's take a peek at some of the data to make sure it looks sensible. Each exemplar should be an image of a character A through J rendered in a different font. Display a sample of the images that we just downloaded. Hint: you can use the package IPython.display.\n",
    "\n",
    "---"
   ]
  },
  {
   "cell_type": "code",
   "execution_count": 7,
   "metadata": {
    "scrolled": true
   },
   "outputs": [
    {
     "name": "stdout",
     "output_type": "stream",
     "text": [
      "Showing Image from path:\n",
      "/home/nikolaos/Repositories/ud370/data/notMNIST_large/I/RHJlYW1TY2FyLnR0Zg==.png\n"
     ]
    },
    {
     "data": {
      "image/png": "[encoded data removed]",
      "text/plain": [
       "<IPython.core.display.Image object>"
      ]
     },
     "metadata": {},
     "output_type": "display_data"
    },
    {
     "name": "stdout",
     "output_type": "stream",
     "text": [
      "Showing Image from path:\n",
      "/home/nikolaos/Repositories/ud370/data/notMNIST_large/E/QXBlcnRvLVNlbWlCb2xkLm90Zg==.png\n"
     ]
    },
    {
     "data": {
      "image/png": "[encoded data removed]",
      "text/plain": [
       "<IPython.core.display.Image object>"
      ]
     },
     "metadata": {},
     "output_type": "display_data"
    },
    {
     "name": "stdout",
     "output_type": "stream",
     "text": [
      "Showing Image from path:\n",
      "/home/nikolaos/Repositories/ud370/data/notMNIST_large/E/Tm9ybWFuZGVCVC1JdGFsaWMub3Rm.png\n"
     ]
    },
    {
     "data": {
      "image/png": "[encoded data removed]",
      "text/plain": [
       "<IPython.core.display.Image object>"
      ]
     },
     "metadata": {},
     "output_type": "display_data"
    },
    {
     "name": "stdout",
     "output_type": "stream",
     "text": [
      "Showing Image from path:\n",
      "/home/nikolaos/Repositories/ud370/data/notMNIST_small/B/Q29ydGluLnR0Zg==.png\n"
     ]
    },
    {
     "data": {
      "image/png": "[encoded data removed]",
      "text/plain": [
       "<IPython.core.display.Image object>"
      ]
     },
     "metadata": {},
     "output_type": "display_data"
    },
    {
     "name": "stdout",
     "output_type": "stream",
     "text": [
      "Showing Image from path:\n",
      "/home/nikolaos/Repositories/ud370/data/notMNIST_small/B/QXRsYXMgb2YgdGhlIE1hZ2kudHRm.png\n"
     ]
    },
    {
     "data": {
      "image/png": "[encoded data removed]",
      "text/plain": [
       "<IPython.core.display.Image object>"
      ]
     },
     "metadata": {},
     "output_type": "display_data"
    },
    {
     "name": "stdout",
     "output_type": "stream",
     "text": [
      "Showing Image from path:\n",
      "/home/nikolaos/Repositories/ud370/data/notMNIST_small/H/QmVjY2FyaWEudHRm.png\n"
     ]
    },
    {
     "data": {
      "image/png": "[encoded data removed]",
      "text/plain": [
       "<IPython.core.display.Image object>"
      ]
     },
     "metadata": {},
     "output_type": "display_data"
    },
    {
     "name": "stdout",
     "output_type": "stream",
     "text": [
      "Showing Image from path:\n",
      "/home/nikolaos/Repositories/ud370/data/notMNIST_small/H/RnJhbmtsaW5Hb3RoaWMtRGVtaUNuZC5vdGY=.png\n"
     ]
    },
    {
     "data": {
      "image/png": "[encoded data removed]",
      "text/plain": [
       "<IPython.core.display.Image object>"
      ]
     },
     "metadata": {},
     "output_type": "display_data"
    },
    {
     "name": "stdout",
     "output_type": "stream",
     "text": [
      "Showing Image from path:\n",
      "/home/nikolaos/Repositories/ud370/data/notMNIST_small/B/R2FyYW1vbmRJdGNULUxpZ2h0Lm90Zg==.png\n"
     ]
    },
    {
     "data": {
      "image/png": "[encoded data removed]",
      "text/plain": [
       "<IPython.core.display.Image object>"
      ]
     },
     "metadata": {},
     "output_type": "display_data"
    },
    {
     "name": "stdout",
     "output_type": "stream",
     "text": [
      "Showing Image from path:\n",
      "/home/nikolaos/Repositories/ud370/data/notMNIST_large/F/SGVhdGhlciBTY3JpcHQgT25lLnR0Zg==.png\n"
     ]
    },
    {
     "data": {
      "image/png": "[encoded data removed]",
      "text/plain": [
       "<IPython.core.display.Image object>"
      ]
     },
     "metadata": {},
     "output_type": "display_data"
    },
    {
     "name": "stdout",
     "output_type": "stream",
     "text": [
      "Showing Image from path:\n",
      "/home/nikolaos/Repositories/ud370/data/notMNIST_large/A/Q3Jvc3NvdmVyIEV4dHJhQm9sZC50dGY=.png\n"
     ]
    },
    {
     "data": {
      "image/png": "[encoded data removed]",
      "text/plain": [
       "<IPython.core.display.Image object>"
      ]
     },
     "metadata": {},
     "output_type": "display_data"
    }
   ],
   "source": [
    "def show_random_images(numi):\n",
    "    \"\"\"\n",
    "    Function to display a specified number of random images from the extracted dataset.\n",
    "    \n",
    "    Arguments:\n",
    "        numi: Integer, how many images to show.\n",
    "    \"\"\"\n",
    "    # First let's create a list of all the files.\n",
    "    # Create data directory path\n",
    "    dpath = os.path.abspath(os.path.join(os.getcwd(), os.pardir))\n",
    "    dpath = os.path.join(dpath, 'data')\n",
    "    \n",
    "    # notMNIST_small directory:\n",
    "    dsmall = os.path.join(dpath, 'notMNIST_small')\n",
    "    # notMNIST_large directory:\n",
    "    dlarge = os.path.join(dpath, 'notMNIST_large')\n",
    "\n",
    "    # create $numi random number of paths of images\n",
    "    name1 = []\n",
    "    it1 = 0\n",
    "    while it1 < numi:\n",
    "        # select random notMNIST\n",
    "        rpath0 = random.choice([dlarge, dsmall])\n",
    "        # select random letter\n",
    "        rpath1 = random.choice([\"A/\", \"B/\", \"C/\", \"D/\", \"E/\", \"F/\", \"H/\", \"I/\", \"J/\"])\n",
    "        # join them\n",
    "        rpath = os.path.join(rpath0, rpath1)\n",
    "        # select random image from files\n",
    "        onlyfiles = [fi for fi in os.listdir(rpath) if os.path.isfile(os.path.join(rpath, fi))]\n",
    "        name2 = random.choice(onlyfiles)\n",
    "        # add that random name to it's path\n",
    "        name2 = os.path.join(rpath, name2)\n",
    "        # add it to list of images\n",
    "        name1.append(name2)\n",
    "        \n",
    "        it1 += 1\n",
    "\n",
    "    for it2 in name1:\n",
    "        print(\"Showing Image from path:\\n\" +  it2)\n",
    "        im1 = Image(filename=(it2))\n",
    "        display(im1)\n",
    "        \n",
    "# show me 10 images\n",
    "show_random_images(10)"
   ]
  },
  {
   "cell_type": "markdown",
   "metadata": {
    "colab_type": "text",
    "id": "PBdkjESPK8tw"
   },
   "source": [
    "Now let's load the data in a more manageable format. Since, depending on your computer setup you might not be able to fit it all in memory, we'll load each class into a separate dataset, store them on disk and curate them independently. Later we'll merge them into a single dataset of manageable size.\n",
    "\n",
    "We'll convert the entire dataset into a 3D array (image index, x, y) of floating point values, normalized to have approximately zero mean and standard deviation ~0.5 to make training easier down the road. \n",
    "\n",
    "A few images might not be readable, we'll just skip them."
   ]
  },
  {
   "cell_type": "code",
   "execution_count": 8,
   "metadata": {
    "cellView": "both",
    "colab": {
     "autoexec": {
      "startup": false,
      "wait_interval": 0
     },
     "output_extras": [
      {
       "item_id": 30
      }
     ]
    },
    "colab_type": "code",
    "executionInfo": {
     "elapsed": 399874,
     "status": "ok",
     "timestamp": 1444485886378,
     "user": {
      "color": "#1FA15D",
      "displayName": "Vincent Vanhoucke",
      "isAnonymous": false,
      "isMe": true,
      "permissionId": "05076109866853157986",
      "photoUrl": "//lh6.googleusercontent.com/-cCJa7dTDcgQ/AAAAAAAAAAI/AAAAAAAACgw/r2EZ_8oYer4/s50-c-k-no/photo.jpg",
      "sessionId": "2a0a5e044bb03b66",
      "userId": "102167687554210253930"
     },
     "user_tz": 420
    },
    "id": "h7q0XhG3MJdf",
    "outputId": "92c391bb-86ff-431d-9ada-315568a19e59"
   },
   "outputs": [
    {
     "name": "stdout",
     "output_type": "stream",
     "text": [
      "/home/nikolaos/Repositories/ud370/data/notMNIST_large/A.pickle already present - Skipping pickling.\n",
      "/home/nikolaos/Repositories/ud370/data/notMNIST_large/B.pickle already present - Skipping pickling.\n",
      "/home/nikolaos/Repositories/ud370/data/notMNIST_large/C.pickle already present - Skipping pickling.\n",
      "/home/nikolaos/Repositories/ud370/data/notMNIST_large/D.pickle already present - Skipping pickling.\n",
      "/home/nikolaos/Repositories/ud370/data/notMNIST_large/E.pickle already present - Skipping pickling.\n",
      "/home/nikolaos/Repositories/ud370/data/notMNIST_large/F.pickle already present - Skipping pickling.\n",
      "/home/nikolaos/Repositories/ud370/data/notMNIST_large/G.pickle already present - Skipping pickling.\n",
      "/home/nikolaos/Repositories/ud370/data/notMNIST_large/H.pickle already present - Skipping pickling.\n",
      "/home/nikolaos/Repositories/ud370/data/notMNIST_large/I.pickle already present - Skipping pickling.\n",
      "/home/nikolaos/Repositories/ud370/data/notMNIST_large/J.pickle already present - Skipping pickling.\n",
      "/home/nikolaos/Repositories/ud370/data/notMNIST_small/A.pickle already present - Skipping pickling.\n",
      "/home/nikolaos/Repositories/ud370/data/notMNIST_small/B.pickle already present - Skipping pickling.\n",
      "/home/nikolaos/Repositories/ud370/data/notMNIST_small/C.pickle already present - Skipping pickling.\n",
      "/home/nikolaos/Repositories/ud370/data/notMNIST_small/D.pickle already present - Skipping pickling.\n",
      "/home/nikolaos/Repositories/ud370/data/notMNIST_small/E.pickle already present - Skipping pickling.\n",
      "/home/nikolaos/Repositories/ud370/data/notMNIST_small/F.pickle already present - Skipping pickling.\n",
      "/home/nikolaos/Repositories/ud370/data/notMNIST_small/G.pickle already present - Skipping pickling.\n",
      "/home/nikolaos/Repositories/ud370/data/notMNIST_small/H.pickle already present - Skipping pickling.\n",
      "/home/nikolaos/Repositories/ud370/data/notMNIST_small/I.pickle already present - Skipping pickling.\n",
      "/home/nikolaos/Repositories/ud370/data/notMNIST_small/J.pickle already present - Skipping pickling.\n"
     ]
    }
   ],
   "source": [
    "### Image preprocessing happening in this step !!! ###\n",
    "image_size = 28  # Pixel width and height.\n",
    "pixel_depth = 255.0  # Number of levels per pixel.\n",
    "\n",
    "def load_letter(folder, min_num_images):\n",
    "    \"\"\"Load the data for a single letter label.\"\"\"\n",
    "    image_files = os.listdir(folder)\n",
    "    dataset = np.ndarray(shape=(len(image_files), image_size, image_size),\n",
    "                         dtype=np.float32)\n",
    "    print(folder)\n",
    "    num_images = 0\n",
    "    for image in image_files:\n",
    "        image_file = os.path.join(folder, image)\n",
    "        try:\n",
    "            # read image as array:\n",
    "            # https://docs.scipy.org/doc/scipy-0.18.1/reference/generated/scipy.ndimage.imread.html\n",
    "            # code below also shifts average to 0 and standard deviation to 1\n",
    "            # This scaling happens assuming the 255 pixel depth is uniformly populated.\n",
    "            image_data = (ndimage.imread(image_file).astype(float) - \n",
    "                          pixel_depth / 2) / pixel_depth\n",
    "            if image_data.shape != (image_size, image_size):\n",
    "                raise Exception('Unexpected image shape: %s' % str(image_data.shape))\n",
    "            dataset[num_images, :, :] = image_data\n",
    "            num_images = num_images + 1\n",
    "        except IOError as e:\n",
    "            print('Could not read:', image_file, ':', e, '- it\\'s ok, skipping.')\n",
    "    \n",
    "    dataset = dataset[0:num_images, :, :]\n",
    "    if num_images < min_num_images:\n",
    "        raise Exception('Many fewer images than expected: %d < %d' %\n",
    "                    (num_images, min_num_images))\n",
    "    \n",
    "    print('Full dataset tensor:', dataset.shape)\n",
    "    print('Mean:', np.mean(dataset))\n",
    "    print('Standard deviation:', np.std(dataset))\n",
    "    return(dataset)\n",
    "        \n",
    "def maybe_pickle(data_folders, min_num_images_per_class, force=False):\n",
    "    dataset_names = []\n",
    "    for folder in data_folders:\n",
    "        set_filename = folder + '.pickle'\n",
    "        dataset_names.append(set_filename)\n",
    "        if os.path.exists(set_filename) and not force:\n",
    "            # You may override by setting force=True.\n",
    "            print('%s already present - Skipping pickling.' % set_filename)\n",
    "        else:\n",
    "            print('Pickling %s.' % set_filename)\n",
    "            dataset = load_letter(folder, min_num_images_per_class)\n",
    "            try:\n",
    "                with open(set_filename, 'wb') as f:\n",
    "                    pickle.dump(dataset, f, pickle.HIGHEST_PROTOCOL)\n",
    "            except Exception as e:\n",
    "                print('Unable to save data to', set_filename, ':', e)\n",
    "  \n",
    "    return(dataset_names)\n",
    "\n",
    "train_datasets = maybe_pickle(train_folders, 50000)\n",
    "test_datasets = maybe_pickle(test_folders, 1800)"
   ]
  },
  {
   "cell_type": "markdown",
   "metadata": {
    "colab_type": "text",
    "id": "vUdbskYE2d87"
   },
   "source": [
    "---\n",
    "Problem 2\n",
    "---------\n",
    "\n",
    "Let's verify that the data still looks good. Displaying a sample of the labels and images from the ndarray. Hint: you can use matplotlib.pyplot.\n",
    "\n",
    "---"
   ]
  },
  {
   "cell_type": "code",
   "execution_count": 9,
   "metadata": {},
   "outputs": [
    {
     "name": "stdout",
     "output_type": "stream",
     "text": [
      "/home/nikolaos/Repositories/ud370/data/notMNIST_small/C.pickle\n"
     ]
    },
    {
     "data": {
      "image/png": "[encoded data removed]",
      "text/plain": [
       "<matplotlib.figure.Figure at 0x7f33254e39e8>"
      ]
     },
     "metadata": {},
     "output_type": "display_data"
    }
   ],
   "source": [
    "## Open a random image from the pickled files.\n",
    "\n",
    "def show_rnd_pkl_image():\n",
    "    \"\"\"Function that shows a random pickled image.\"\"\"\n",
    "    # First let's create a list of all the files.\n",
    "    # Create data directory path\n",
    "    dpath = os.path.abspath(os.path.join(os.getcwd(), os.pardir))\n",
    "    dpath = os.path.join(dpath, 'data')\n",
    "\n",
    "    # notMNIST_small directory:\n",
    "    dsmall = os.path.join(dpath, 'notMNIST_small')\n",
    "    # notMNIST_large directory:\n",
    "    dlarge = os.path.join(dpath, 'notMNIST_large')\n",
    "\n",
    "    # Find all pickle files in each directory.\n",
    "    # http://stackoverflow.com/a/3215392\n",
    "    # Create a list of all nonMNIST_small pickles\n",
    "    lsmall = glob.glob(dsmall + '/*.pickle')\n",
    "    # Create a list of all nonMNIST_large pickles\n",
    "    llarge = glob.glob(dlarge + '/*.pickle')\n",
    "\n",
    "    # Pick a random pickle to load (either large or small !)\n",
    "    rpklfile = random.choice([lsmall, llarge])\n",
    "    rpklfile = random.choice(rpklfile)\n",
    "\n",
    "    # verify randomness\n",
    "    print(rpklfile)\n",
    "\n",
    "    with open(rpklfile, 'rb') as rf:\n",
    "        imgPkl = pickle.load(rf)\n",
    "\n",
    "    plt.imshow(random.choice(list(imgPkl)))\n",
    "    \n",
    "show_rnd_pkl_image()"
   ]
  },
  {
   "cell_type": "markdown",
   "metadata": {
    "colab_type": "text",
    "id": "cYznx5jUwzoO"
   },
   "source": [
    "---\n",
    "Problem 3\n",
    "---------\n",
    "Another check: we expect the data to be balanced across classes. Verify that.\n",
    "\n",
    "---"
   ]
  },
  {
   "cell_type": "code",
   "execution_count": 10,
   "metadata": {},
   "outputs": [
    {
     "name": "stdout",
     "output_type": "stream",
     "text": [
      "Number of images in  /home/nikolaos/Repositories/ud370/data/notMNIST_large/A  :  52909\n",
      "Number of images in  /home/nikolaos/Repositories/ud370/data/notMNIST_large/B  :  52911\n",
      "Number of images in  /home/nikolaos/Repositories/ud370/data/notMNIST_large/C  :  52912\n",
      "Number of images in  /home/nikolaos/Repositories/ud370/data/notMNIST_large/D  :  52911\n",
      "Number of images in  /home/nikolaos/Repositories/ud370/data/notMNIST_large/E  :  52912\n",
      "Number of images in  /home/nikolaos/Repositories/ud370/data/notMNIST_large/F  :  52912\n",
      "Number of images in  /home/nikolaos/Repositories/ud370/data/notMNIST_large/G  :  52912\n",
      "Number of images in  /home/nikolaos/Repositories/ud370/data/notMNIST_large/H  :  52912\n",
      "Number of images in  /home/nikolaos/Repositories/ud370/data/notMNIST_large/I  :  52912\n",
      "Number of images in  /home/nikolaos/Repositories/ud370/data/notMNIST_large/J  :  52911\n",
      "Number of images in  /home/nikolaos/Repositories/ud370/data/notMNIST_small/A  :  1872\n",
      "Number of images in  /home/nikolaos/Repositories/ud370/data/notMNIST_small/B  :  1873\n",
      "Number of images in  /home/nikolaos/Repositories/ud370/data/notMNIST_small/C  :  1873\n",
      "Number of images in  /home/nikolaos/Repositories/ud370/data/notMNIST_small/D  :  1873\n",
      "Number of images in  /home/nikolaos/Repositories/ud370/data/notMNIST_small/E  :  1873\n",
      "Number of images in  /home/nikolaos/Repositories/ud370/data/notMNIST_small/F  :  1872\n",
      "Number of images in  /home/nikolaos/Repositories/ud370/data/notMNIST_small/G  :  1872\n",
      "Number of images in  /home/nikolaos/Repositories/ud370/data/notMNIST_small/H  :  1872\n",
      "Number of images in  /home/nikolaos/Repositories/ud370/data/notMNIST_small/I  :  1872\n",
      "Number of images in  /home/nikolaos/Repositories/ud370/data/notMNIST_small/J  :  1872\n"
     ]
    }
   ],
   "source": [
    "def disp_number_images(data_folders):\n",
    "    for folder in data_folders:\n",
    "        pickle_filename = folder + '.pickle'\n",
    "        try:\n",
    "            with open(pickle_filename, 'rb') as f:\n",
    "                dataset = pickle.load(f)\n",
    "        except Exception as e:\n",
    "            print('Unable to read data from', pickle_filename, ':', e)\n",
    "            return\n",
    "        print('Number of images in ', folder, ' : ', len(dataset))\n",
    "    \n",
    "disp_number_images(train_folders)\n",
    "disp_number_images(test_folders)\n"
   ]
  },
  {
   "cell_type": "markdown",
   "metadata": {
    "colab_type": "text",
    "id": "LA7M7K22ynCt"
   },
   "source": [
    "Merge and prune the training data as needed. Depending on your computer setup, you might not be able to fit it all in memory, and you can tune `train_size` as needed. The labels will be stored into a separate array of integers 0 through 9.\n",
    "\n",
    "Also create a validation dataset for hyperparameter tuning."
   ]
  },
  {
   "cell_type": "code",
   "execution_count": 11,
   "metadata": {
    "cellView": "both",
    "colab": {
     "autoexec": {
      "startup": false,
      "wait_interval": 0
     },
     "output_extras": [
      {
       "item_id": 1
      }
     ]
    },
    "colab_type": "code",
    "executionInfo": {
     "elapsed": 411281,
     "status": "ok",
     "timestamp": 1444485897869,
     "user": {
      "color": "#1FA15D",
      "displayName": "Vincent Vanhoucke",
      "isAnonymous": false,
      "isMe": true,
      "permissionId": "05076109866853157986",
      "photoUrl": "//lh6.googleusercontent.com/-cCJa7dTDcgQ/AAAAAAAAAAI/AAAAAAAACgw/r2EZ_8oYer4/s50-c-k-no/photo.jpg",
      "sessionId": "2a0a5e044bb03b66",
      "userId": "102167687554210253930"
     },
     "user_tz": 420
    },
    "id": "s3mWgZLpyuzq",
    "outputId": "8af66da6-902d-4719-bedc-7c9fb7ae7948"
   },
   "outputs": [
    {
     "name": "stdout",
     "output_type": "stream",
     "text": [
      "Training: (500000, 28, 28) (500000,)\n",
      "Validation: (29000, 28, 28) (29000,)\n",
      "Testing: (18000, 28, 28) (18000,)\n"
     ]
    }
   ],
   "source": [
    "def make_arrays(nb_rows, img_size):\n",
    "    if nb_rows:\n",
    "        dataset = np.ndarray((nb_rows, img_size, img_size), dtype=np.float32)\n",
    "        labels = np.ndarray(nb_rows, dtype=np.int32)\n",
    "    else:\n",
    "        dataset, labels = None, None\n",
    "    return dataset, labels\n",
    "\n",
    "def merge_datasets(pickle_files, train_size, valid_size=0):\n",
    "    num_classes = len(pickle_files)\n",
    "    valid_dataset, valid_labels = make_arrays(valid_size, image_size)\n",
    "    train_dataset, train_labels = make_arrays(train_size, image_size)\n",
    "    vsize_per_class = valid_size // num_classes\n",
    "    tsize_per_class = train_size // num_classes\n",
    "    \n",
    "    start_v, start_t = 0, 0\n",
    "    end_v, end_t = vsize_per_class, tsize_per_class\n",
    "    end_l = vsize_per_class+tsize_per_class\n",
    "    for label, pickle_file in enumerate(pickle_files):       \n",
    "        try:\n",
    "            with open(pickle_file, 'rb') as f:\n",
    "                letter_set = pickle.load(f)\n",
    "                # let's shuffle the letters to have random validation and training set\n",
    "                np.random.shuffle(letter_set)\n",
    "                if valid_dataset is not None:\n",
    "                    valid_letter = letter_set[:vsize_per_class, :, :]\n",
    "                    valid_dataset[start_v:end_v, :, :] = valid_letter\n",
    "                    valid_labels[start_v:end_v] = label\n",
    "                    start_v += vsize_per_class\n",
    "                    end_v += vsize_per_class\n",
    "                    \n",
    "                train_letter = letter_set[vsize_per_class:end_l, :, :]\n",
    "                train_dataset[start_t:end_t, :, :] = train_letter\n",
    "                train_labels[start_t:end_t] = label\n",
    "                start_t += tsize_per_class\n",
    "                end_t += tsize_per_class\n",
    "        except Exception as e:\n",
    "            print('Unable to process data from', pickle_file, ':', e)\n",
    "            raise\n",
    "    \n",
    "    return valid_dataset, valid_labels, train_dataset, train_labels\n",
    "            \n",
    "            \n",
    "train_size = 500000\n",
    "valid_size = 29000\n",
    "test_size = 18000\n",
    "\n",
    "valid_dataset, valid_labels, train_dataset, train_labels = merge_datasets(\n",
    "  train_datasets, train_size, valid_size)\n",
    "_, _, test_dataset, test_labels = merge_datasets(test_datasets, test_size)\n",
    "\n",
    "print('Training:', train_dataset.shape, train_labels.shape)\n",
    "print('Validation:', valid_dataset.shape, valid_labels.shape)\n",
    "print('Testing:', test_dataset.shape, test_labels.shape)"
   ]
  },
  {
   "cell_type": "markdown",
   "metadata": {
    "colab_type": "text",
    "id": "GPTCnjIcyuKN"
   },
   "source": [
    "Next, we'll randomize the data. It's important to have the labels well shuffled for the training and test distributions to match."
   ]
  },
  {
   "cell_type": "code",
   "execution_count": 12,
   "metadata": {
    "cellView": "both",
    "colab": {
     "autoexec": {
      "startup": false,
      "wait_interval": 0
     }
    },
    "colab_type": "code",
    "collapsed": true,
    "id": "6WZ2l2tN2zOL"
   },
   "outputs": [],
   "source": [
    "def randomize(dataset, labels):\n",
    "    permutation = np.random.permutation(labels.shape[0])\n",
    "    shuffled_dataset = dataset[permutation,:,:]\n",
    "    shuffled_labels = labels[permutation]\n",
    "    return (shuffled_dataset, shuffled_labels)\n",
    "train_dataset, train_labels = randomize(train_dataset, train_labels)\n",
    "test_dataset, test_labels = randomize(test_dataset, test_labels)\n",
    "valid_dataset, valid_labels = randomize(valid_dataset, valid_labels)"
   ]
  },
  {
   "cell_type": "markdown",
   "metadata": {},
   "source": [
    "---\n",
    "Problem 4\n",
    "---------\n",
    "Convince yourself that the data is still good after shuffling!\n",
    "\n",
    "---"
   ]
  },
  {
   "cell_type": "markdown",
   "metadata": {
    "colab_type": "text",
    "id": "puDUTe6t6USl"
   },
   "source": [
    "To be sure that the data are still fine after the merger and the randomization, we will select one item and display the image alongside the label.\n",
    "\n",
    "**Note:** 0 = A, 1 = B, 2 = C, 3 = D, 4 = E, 5 = F, 6 = G, 7 = H, 8 = I, 9 = J."
   ]
  },
  {
   "cell_type": "code",
   "execution_count": 13,
   "metadata": {
    "collapsed": true
   },
   "outputs": [],
   "source": [
    "pretty_labels = {0: 'A', 1: 'B', 2: 'C', 3: 'D', 4: 'E', 5: 'F', 6: 'G', 7: 'H', 8: 'I', 9: 'J'}\n",
    "\n",
    "def disp_sample_dataset(dataset, labels):\n",
    "  items = random.sample(range(len(labels)), 8)\n",
    "  for i, item in enumerate(items):\n",
    "    plt.subplot(2, 4, i+1)\n",
    "    plt.axis('off')\n",
    "    plt.title(pretty_labels[labels[item]])\n",
    "    plt.imshow(dataset[item])"
   ]
  },
  {
   "cell_type": "code",
   "execution_count": 14,
   "metadata": {},
   "outputs": [
    {
     "data": {
      "image/png": "[encoded data removed]",
      "text/plain": [
       "<matplotlib.figure.Figure at 0x7f336297c5c0>"
      ]
     },
     "metadata": {},
     "output_type": "display_data"
    }
   ],
   "source": [
    "disp_sample_dataset(train_dataset, train_labels)"
   ]
  },
  {
   "cell_type": "code",
   "execution_count": 15,
   "metadata": {},
   "outputs": [
    {
     "data": {
      "image/png": "[encoded data removed]",
      "text/plain": [
       "<matplotlib.figure.Figure at 0x7f33254e3828>"
      ]
     },
     "metadata": {},
     "output_type": "display_data"
    }
   ],
   "source": [
    "disp_sample_dataset(train_dataset, train_labels)"
   ]
  },
  {
   "cell_type": "markdown",
   "metadata": {
    "colab_type": "text",
    "id": "tIQJaJuwg5Hw"
   },
   "source": [
    "Finally, let's save the data for later reuse:"
   ]
  },
  {
   "cell_type": "code",
   "execution_count": 19,
   "metadata": {
    "cellView": "both",
    "colab": {
     "autoexec": {
      "startup": false,
      "wait_interval": 0
     }
    },
    "colab_type": "code",
    "id": "QiR_rETzem6C"
   },
   "outputs": [
    {
     "name": "stdout",
     "output_type": "stream",
     "text": [
      "Data has been processed and saved in previous run.\n",
      "Compressed pickle size: 1717580521\n"
     ]
    }
   ],
   "source": [
    "# Create data directory path\n",
    "dpath = os.path.abspath(os.path.join(os.getcwd(), os.pardir))\n",
    "dpath = os.path.join(dpath, 'data')\n",
    "# create pickle data file path\n",
    "pickle_file = os.path.join(dpath,'notMNIST.pickle')\n",
    "\n",
    "# save data if they aren't already saved or forced.\n",
    "def maybe_save_data(filepath, force=False):\n",
    "    # Download file if needed\n",
    "    if force or not os.path.exists(filepath):\n",
    "        print('Attempting to save data at:\\n', filepath) \n",
    "        \n",
    "        try:\n",
    "            f = open(pickle_file, 'wb')\n",
    "            save = {\n",
    "                'train_dataset': train_dataset,\n",
    "                'train_labels': train_labels,\n",
    "                'valid_dataset': valid_dataset,\n",
    "                'valid_labels': valid_labels,\n",
    "                'test_dataset': test_dataset,\n",
    "                'test_labels': test_labels,\n",
    "            }\n",
    "            pickle.dump(save, f, pickle.HIGHEST_PROTOCOL)\n",
    "            f.close()\n",
    "            print('Data saved.')\n",
    "        except Exception as e:\n",
    "            print('Unable to save data to', pickle_file, ':', e)\n",
    "            raise\n",
    "    else:\n",
    "        print('Data has been processed and saved in previous run.')\n",
    "        # Note: Previous run reshuffling will likely be different \n",
    "        #       from current run!\n",
    "    \n",
    "    statinfo = os.stat(pickle_file)\n",
    "    print('Compressed pickle size:', statinfo.st_size)\n",
    "    \n",
    "maybe_save_data(pickle_file)"
   ]
  },
  {
   "cell_type": "markdown",
   "metadata": {
    "colab_type": "text",
    "id": "gE_cRAQB33lk"
   },
   "source": [
    "---\n",
    "Problem 5\n",
    "---------\n",
    "\n",
    "By construction, this dataset might contain a lot of overlapping samples, including training data that's also contained in the validation and test set! Overlap between training and test can skew the results if you expect to use your model in an environment where there is never an overlap, but are actually ok if you expect to see training samples recur when you use it.\n",
    "Measure how much overlap there is between training, validation and test samples.\n",
    "\n",
    "Optional questions:\n",
    "- What about near duplicates between datasets? (images that are almost identical)\n",
    "- Create a sanitized validation and test set, and compare your accuracy on those in subsequent assignments.\n",
    "---\n",
    "\n",
    "In this part, we will explore the datasets and understand better the overlap cases. There are overlaps, but there are also duplicates in the same dataset! Processing time is also critical. We will first use nested loops and matrix comparison, which is slow.\n",
    "\n",
    "Potential enhancement: Use a hash function to accelerate and process the whole dataset."
   ]
  },
  {
   "cell_type": "code",
   "execution_count": 20,
   "metadata": {
    "collapsed": true
   },
   "outputs": [],
   "source": [
    "def display_overlap(overlap, source_dataset, target_dataset):\n",
    "    item = random.choice(list(overlap.keys()))\n",
    "    imgs = np.concatenate(([source_dataset[item]], target_dataset[overlap[item][0:7]]))\n",
    "    plt.suptitle(item)\n",
    "    for i, img in enumerate(imgs):\n",
    "        plt.subplot(2, 4, i+1)\n",
    "        plt.axis('off')\n",
    "        plt.imshow(img)\n",
    "\n",
    "def extract_overlap(dataset_1, dataset_2):\n",
    "    overlap = {}\n",
    "    for i, img_1 in enumerate(dataset_1):\n",
    "        for j, img_2 in enumerate(dataset_2):     \n",
    "            if np.array_equal(img_1, img_2):\n",
    "                if not i in overlap.keys():\n",
    "                    overlap[i] = []\n",
    "                overlap[i].append(j)\n",
    "    return overlap\n",
    "\n"
   ]
  },
  {
   "cell_type": "code",
   "execution_count": 21,
   "metadata": {},
   "outputs": [
    {
     "name": "stdout",
     "output_type": "stream",
     "text": [
      "CPU times: user 6min 15s, sys: 0 ns, total: 6min 15s\n",
      "Wall time: 6min 15s\n"
     ]
    }
   ],
   "source": [
    "%time overlap_test_train = extract_overlap(test_dataset[:200], train_dataset)"
   ]
  },
  {
   "cell_type": "code",
   "execution_count": 22,
   "metadata": {},
   "outputs": [
    {
     "name": "stdout",
     "output_type": "stream",
     "text": [
      "Number of overlaps: 44\n"
     ]
    },
    {
     "data": {
      "image/png": "[encoded data removed]",
      "text/plain": [
       "<matplotlib.figure.Figure at 0x7f3324f20630>"
      ]
     },
     "metadata": {},
     "output_type": "display_data"
    }
   ],
   "source": [
    "print('Number of overlaps:', len(overlap_test_train.keys()))\n",
    "display_overlap(overlap_test_train, test_dataset[:200], train_dataset)"
   ]
  },
  {
   "cell_type": "markdown",
   "metadata": {
    "colab_type": "text",
    "id": "L8oww1s4JMQx"
   },
   "source": [
    "---\n",
    "Problem 6\n",
    "---------\n",
    "\n",
    "Let's get an idea of what an off-the-shelf classifier can give you on this data. It's always good to check that there is something to learn, and that it's a problem that is not so trivial that a canned solution solves it.\n",
    "\n",
    "Train a simple model on this data using 50, 100, 1000 and 5000 training samples. Hint: you can use the LogisticRegression model from sklearn.linear_model.\n",
    "\n",
    "Optional question: train an off-the-shelf model on all the data!\n",
    "\n",
    "---"
   ]
  },
  {
   "cell_type": "code",
   "execution_count": 23,
   "metadata": {},
   "outputs": [
    {
     "name": "stdout",
     "output_type": "stream",
     "text": [
      "CPU times: user 48 ms, sys: 0 ns, total: 48 ms\n",
      "Wall time: 51.5 ms\n",
      "Mean acccuracy of the linear regression model is: 0.5780555555555555\n"
     ]
    },
    {
     "data": {
      "image/png": "[encoded data removed]",
      "text/plain": [
       "<matplotlib.figure.Figure at 0x7f3324e7d208>"
      ]
     },
     "metadata": {},
     "output_type": "display_data"
    }
   ],
   "source": [
    "def tryLogRegr(sample_size):\n",
    "    \"\"\"\n",
    "    \n",
    "    Arguments:\n",
    "        sample_size: Integer to determine sample size\n",
    "    \"\"\"\n",
    "    \n",
    "    regr = LogisticRegression()\n",
    "    X_test = test_dataset.reshape(test_dataset.shape[0], 28 * 28)\n",
    "    y_test = test_labels\n",
    "\n",
    "    \n",
    "    X_train = train_dataset[:sample_size].reshape(sample_size, 784)\n",
    "    y_train = train_labels[:sample_size]\n",
    "    %time regr.fit(X_train, y_train)\n",
    "    rscore = regr.score(X_test, y_test)\n",
    "    \n",
    "    print(\"Mean acccuracy of the linear regression model is: {}\"\n",
    "          .format(rscore))\n",
    "    \n",
    "    pred_labels = regr.predict(X_test)\n",
    "    disp_sample_dataset(test_dataset, pred_labels)\n",
    "\n",
    "tryLogRegr(50)"
   ]
  },
  {
   "cell_type": "code",
   "execution_count": 24,
   "metadata": {},
   "outputs": [
    {
     "name": "stdout",
     "output_type": "stream",
     "text": [
      "CPU times: user 112 ms, sys: 0 ns, total: 112 ms\n",
      "Wall time: 115 ms\n",
      "Mean acccuracy of the linear regression model is: 0.6584444444444445\n"
     ]
    },
    {
     "data": {
      "image/png": "[encoded data removed]",
      "text/plain": [
       "<matplotlib.figure.Figure at 0x7f3324ebff60>"
      ]
     },
     "metadata": {},
     "output_type": "display_data"
    }
   ],
   "source": [
    "tryLogRegr(100)"
   ]
  },
  {
   "cell_type": "code",
   "execution_count": 25,
   "metadata": {},
   "outputs": [
    {
     "name": "stdout",
     "output_type": "stream",
     "text": [
      "CPU times: user 1.95 s, sys: 4 ms, total: 1.95 s\n",
      "Wall time: 1.95 s\n",
      "Mean acccuracy of the linear regression model is: 0.8401666666666666\n"
     ]
    },
    {
     "data": {
      "image/png": "[encoded data removed]",
      "text/plain": [
       "<matplotlib.figure.Figure at 0x7f332503d860>"
      ]
     },
     "metadata": {},
     "output_type": "display_data"
    }
   ],
   "source": [
    "tryLogRegr(1000)"
   ]
  },
  {
   "cell_type": "code",
   "execution_count": 26,
   "metadata": {},
   "outputs": [
    {
     "name": "stdout",
     "output_type": "stream",
     "text": [
      "CPU times: user 17.8 s, sys: 12 ms, total: 17.8 s\n",
      "Wall time: 17.8 s\n",
      "Mean acccuracy of the linear regression model is: 0.8513333333333334\n"
     ]
    },
    {
     "data": {
      "image/png": "[encoded data removed]",
      "text/plain": [
       "<matplotlib.figure.Figure at 0x7f332514c5c0>"
      ]
     },
     "metadata": {},
     "output_type": "display_data"
    }
   ],
   "source": [
    "tryLogRegr(5000)"
   ]
  },
  {
   "cell_type": "markdown",
   "metadata": {},
   "source": [
    "---\n",
    "    \n",
    "Looks like ~85% is the limit for a linear method\n",
    "    \n",
    "---\n",
    "\n",
    "Let's try on all of the dataset."
   ]
  },
  {
   "cell_type": "code",
   "execution_count": 27,
   "metadata": {},
   "outputs": [
    {
     "name": "stdout",
     "output_type": "stream",
     "text": [
      "CPU times: user 23min 23s, sys: 260 ms, total: 23min 23s\n",
      "Wall time: 7min 1s\n",
      "Mean acccuracy of the linear regression model is: 0.8940555555555556\n"
     ]
    },
    {
     "data": {
      "image/png": "[encoded data removed]",
      "text/plain": [
       "<matplotlib.figure.Figure at 0x7f33252a45c0>"
      ]
     },
     "metadata": {},
     "output_type": "display_data"
    }
   ],
   "source": [
    "def tryLogRegrAll():\n",
    "    \"\"\"\n",
    "    Function to perform Logistic Regression on all our dataset.\n",
    "    \"\"\"\n",
    "    \n",
    "    # sag solver works better for bigger datasets\n",
    "    # n_jobs = -2 automatically selects (max - 1) available cores!\n",
    "    # using -1\n",
    "    regr = LogisticRegression(solver='sag', n_jobs = -1)\n",
    "    X_test = test_dataset.reshape(test_dataset.shape[0], 28 * 28)\n",
    "    y_test = test_labels\n",
    "    \n",
    "    X_train = train_dataset.reshape(train_dataset.shape[0], 784)\n",
    "    y_train = train_labels\n",
    "    %time regr.fit(X_train, y_train)\n",
    "    rscore = regr.score(X_test, y_test)\n",
    "    \n",
    "    print(\"Mean acccuracy of the linear regression model is: {}\"\n",
    "          .format(rscore))\n",
    "    \n",
    "    pred_labels = regr.predict(X_test)\n",
    "    disp_sample_dataset(test_dataset, pred_labels)\n",
    "\n",
    "tryLogRegrAll()"
   ]
  },
  {
   "cell_type": "markdown",
   "metadata": {},
   "source": [
    "# **Final Comments:**\n",
    "\n",
    " - Final Accuracy of 89% is quite impressive !\n",
    " - Multithreaded support out of the box is quite cool as well !"
   ]
  }
 ],
 "metadata": {
  "colab": {
   "default_view": {},
   "name": "1_notmnist.ipynb",
   "provenance": [],
   "version": "0.3.2",
   "views": {}
  },
  "kernelspec": {
   "display_name": "Python 3",
   "language": "python",
   "name": "python3"
  },
  "language_info": {
   "codemirror_mode": {
    "name": "ipython",
    "version": 3
   },
   "file_extension": ".py",
   "mimetype": "text/x-python",
   "name": "python",
   "nbconvert_exporter": "python",
   "pygments_lexer": "ipython3",
   "version": "3.5.2"
  }
 },
 "nbformat": 4,
 "nbformat_minor": 1
}
